{
 "cells": [
  {
   "cell_type": "code",
   "execution_count": 76,
   "metadata": {
    "collapsed": false
   },
   "outputs": [],
   "source": [
    "import matplotlib.pyplot as plt\n",
    "import matplotlib.image as mpimg\n",
    "import numpy as np\n",
    "import cv2\n",
    "%matplotlib inline\n",
    "from moviepy.editor import VideoFileClip\n",
    "from IPython.display import HTML\n",
    "from collections import defaultdict\n",
    "from scipy.misc import imread\n",
    "from skimage.filter import canny\n",
    "from scipy.ndimage.filters import sobel"
   ]
  },
  {
   "cell_type": "code",
   "execution_count": 2,
   "metadata": {
    "collapsed": true
   },
   "outputs": [],
   "source": [
    "import math"
   ]
  },
  {
   "cell_type": "code",
   "execution_count": 3,
   "metadata": {
    "collapsed": true
   },
   "outputs": [],
   "source": [
    "def region_of_interest(img, vertices):\n",
    "    #defining a blank mask to start with\n",
    "    mask = np.zeros_like(img)   \n",
    "    \n",
    "    #defining a 3 channel or 1 channel color to fill the mask with depending on the input image\n",
    "    if len(img.shape) > 2:\n",
    "        channel_count = img.shape[2]  # i.e. 3 or 4 depending on your image\n",
    "        ignore_mask_color = (255,) * channel_count\n",
    "    else:\n",
    "        ignore_mask_color = 255\n",
    "        \n",
    "    #filling pixels inside the polygon defined by \"vertices\" with the fill color    \n",
    "    cv2.fillPoly(mask, vertices, ignore_mask_color)\n",
    "    \n",
    "    #returning the image only where mask pixels are nonzero\n",
    "    masked_image = cv2.bitwise_and(img, mask)\n",
    "    return masked_image"
   ]
  },
  {
   "cell_type": "code",
   "execution_count": 34,
   "metadata": {
    "collapsed": true
   },
   "outputs": [],
   "source": [
    "def draw_lines(img,lines, color=[255, 0, 0], thickness = 2):\n",
    "    for line in lines:\n",
    "        for x1,y1, x2, y2 in line:\n",
    "            cv2.line(img,(x1,y1),(x2,y2), color, thickness)\n",
    "            \n",
    "def hough_lines(img, rho, theta, threshold, min_line_len, max_line_gap):\n",
    "    lines = cv2.HoughLinesP(img, rho, theta, threshold, np.array([]), minLineLength=min_line_len, maxLineGap=max_line_gap)\n",
    "    line_img = np.zeros((img.shape[0], img.shape[1],3), dtype=np.uint8)\n",
    "    draw_lines(line_img, lines)\n",
    "    return line_img \n",
    "\n",
    "\n"
   ]
  },
  {
   "cell_type": "code",
   "execution_count": 57,
   "metadata": {
    "collapsed": true
   },
   "outputs": [],
   "source": [
    "# I borrow this section from arjunmitrareddy github. \n",
    "def windowed_average(values, window=3) :\n",
    "    if len(values) < window:\n",
    "        return [values[-1]]\n",
    "    \n",
    "    return np.convolve(values, np.ones((window,))/window, mode='valid')\n",
    "    \n",
    "\n",
    "#keep in global because we need to average over a set of images in the video case \n",
    "left_lane_params = []\n",
    "right_lane_params = []\n",
    " \n",
    "def draw_lines(img, lines, color=[255, 0, 0], thickness=10):\n",
    "    left_lane_points, right_lane_points = [], []\n",
    "    if lines is not None:\n",
    "        for line in lines:\n",
    "            for x1,y1,x2,y2 in line:\n",
    "                slope = ((y2-y1)/(x2-x1))\n",
    "                if slope < 0:\n",
    "                    left_lane_points.append([x1, y1])\n",
    "                    left_lane_points.append([x2, y2])\n",
    "                else:\n",
    "                    right_lane_points.append([x1, y1])\n",
    "                    right_lane_points.append([x2, y2])\n",
    "\n",
    "        if len(left_lane_points) > 0:\n",
    "            left_fit = np.polyfit([x[0] for x in left_lane_points], [x[1] for x in left_lane_points], 1).tolist()\n",
    "\n",
    "            if len(left_lane_params) == 0:\n",
    "                left_lane_params.append(left_fit)\n",
    "\n",
    "            elif abs(left_fit[0]) > 0.5 and abs(left_fit[0]) < 1.0:\n",
    "                left_lane_params.append(left_fit)\n",
    "\n",
    "        if len(right_lane_points) > 0:\n",
    "            right_fit = np.polyfit([x[0] for x in right_lane_points], [x[1] for x in right_lane_points], 1).tolist()\n",
    "            if len(right_lane_params) == 0:\n",
    "                right_lane_params.append(right_fit)\n",
    "\n",
    "            elif abs(right_fit[0]) > 0.5 and abs(right_fit[0]) < 1.0:\n",
    "                right_lane_params.append(right_fit)\n",
    "\n",
    "        l_slope = windowed_average([x[0] for x in left_lane_params])[-1]\n",
    "        l_intercept = windowed_average([x[1] for x in left_lane_params])[-1]\n",
    "        l_y1 = img.shape[0]\n",
    "        l_x1 = int((l_y1 - l_intercept)/l_slope)\n",
    "        l_y2 = int(img.shape[0] * 0.6)\n",
    "        l_x2 = int((l_y2 - l_intercept)/l_slope)\n",
    "           \n",
    "        r_slope = windowed_average([x[0] for x in right_lane_params])[-1]\n",
    "        r_intercept = windowed_average([x[1] for x in right_lane_params])[-1]\n",
    "        r_y1 = int(img.shape[0] * 0.6)\n",
    "        r_x1 = int((r_y1 - r_intercept)/r_slope)\n",
    "        r_y2 = img.shape[0]\n",
    "        r_x2 = int((r_y2 - r_intercept)/r_slope)\n",
    "        \n",
    "        cv2.line(img, (l_x1, l_y1), (l_x2, l_y2), color, thickness)\n",
    "        cv2.line(img, (r_x1, r_y1), (r_x2, r_y2), color, thickness)\n",
    "def hough_lines_extrapolation(img, rho, theta, threshold, min_line_len, max_line_gap):\n",
    "    lines = cv2.HoughLinesP(img, rho, theta, threshold, np.array([]), minLineLength=min_line_len, maxLineGap=max_line_gap)\n",
    "    line_img = np.zeros((img.shape[0], img.shape[1],3), dtype=np.uint8)\n",
    "    draw_lines(line_img, lines)\n",
    "    return line_img "
   ]
  },
  {
   "cell_type": "code",
   "execution_count": 53,
   "metadata": {
    "collapsed": true
   },
   "outputs": [],
   "source": [
    "def ROI(img):\n",
    "    # this ROI has vertices value that works for both two videos. \n",
    "    y_shape = img.shape[0]\n",
    "    x_shape = img.shape[1]\n",
    "    vertices = np.array([[x_shape/2, y_shape*0.6], [x_shape/2, y_shape*0.6],\n",
    "            [x_shape, y_shape*1], [0, y_shape*1]], dtype=np.int32)\n",
    "    return region_of_interest(img, [vertices])"
   ]
  },
  {
   "cell_type": "code",
   "execution_count": 58,
   "metadata": {
    "collapsed": true
   },
   "outputs": [],
   "source": [
    "def pipeline_lane(img):\n",
    "    #Define the Hough transform parameters\n",
    "    # Make a blank the same size as our image to draw on\n",
    "    rho = 1 # distance resolution in pixels of the Hough grid\n",
    "    theta = np.pi/180 # angular resolution in radians of the Hough grid\n",
    "    # These values I borrow from arjunmitrareddy github \n",
    "    threshold = 10   # minimum number of votes (intersections in Hough grid cell)\n",
    "    min_line_length = 100 #minimum number of pixels making up a line\n",
    "    max_line_gap = 100    # maximum gap in pixels between connectable line segments\n",
    "    # Define our parameters for Canny and apply\n",
    "    low_threshold = 50\n",
    "    high_threshold = 150\n",
    "    if len(img.shape)>2:\n",
    "        img_gray = cv2.cvtColor(img, cv2.COLOR_RGB2GRAY)\n",
    "    else:\n",
    "        img_gray = img\n",
    "    kernel_size = 5\n",
    "    blur_gray = cv2.GaussianBlur(img_gray,(kernel_size, kernel_size),0)\n",
    "    edges = cv2.Canny(blur_gray, low_threshold, high_threshold)\n",
    "    edge_roi = ROI(edges)\n",
    "    lines_h = hough_lines(edge_roi, rho, theta, threshold, min_line_length, max_line_gap)\n",
    "    return lines_h\n"
   ]
  },
  {
   "cell_type": "code",
   "execution_count": 62,
   "metadata": {
    "collapsed": true
   },
   "outputs": [],
   "source": [
    "def pipeline_lane_extrapolation(img):\n",
    "    #Define the Hough transform parameters\n",
    "    # Make a blank the same size as our image to draw on\n",
    "    rho = 1 # distance resolution in pixels of the Hough grid\n",
    "    theta = np.pi/180 # angular resolution in radians of the Hough grid\n",
    "    threshold = 10   # minimum number of votes (intersections in Hough grid cell)\n",
    "    min_line_length = 100 #minimum number of pixels making up a line\n",
    "    max_line_gap = 100    # maximum gap in pixels between connectable line segments\n",
    "    # Define our parameters for Canny and apply\n",
    "    low_threshold = 50\n",
    "    high_threshold = 150\n",
    "    if len(img.shape)>2:\n",
    "        img_gray = cv2.cvtColor(img, cv2.COLOR_RGB2GRAY)\n",
    "    else:\n",
    "        img_gray = img\n",
    "    kernel_size = 5\n",
    "    blur_gray = cv2.GaussianBlur(img_gray,(kernel_size, kernel_size),0)\n",
    "    edges = cv2.Canny(blur_gray, low_threshold, high_threshold)\n",
    "    edge_roi = ROI(edges)\n",
    "    lines_h = hough_lines_extrapolation(edge_roi, rho, theta, threshold, min_line_length, max_line_gap)\n",
    "    return lines_h\n"
   ]
  },
  {
   "cell_type": "code",
   "execution_count": 59,
   "metadata": {
    "collapsed": true
   },
   "outputs": [],
   "source": [
    "def process_image(image):\n",
    "    result = pipeline_lane(image)\n",
    "    lanes = cv2.addWeighted(image,0.8,result,1,0)\n",
    "    return lanes"
   ]
  },
  {
   "cell_type": "code",
   "execution_count": 63,
   "metadata": {
    "collapsed": true
   },
   "outputs": [],
   "source": [
    "def process_image_extrapolation(image):\n",
    "    result = pipeline_lane_extrapolation(image)\n",
    "    lanes = cv2.addWeighted(image,0.8,result,1,0)\n",
    "    return lanes"
   ]
  },
  {
   "cell_type": "code",
   "execution_count": 60,
   "metadata": {
    "collapsed": false
   },
   "outputs": [
    {
     "name": "stdout",
     "output_type": "stream",
     "text": [
      "[MoviePy] >>>> Building video test_video_outputs/solidWhiteRight.mp4\n",
      "[MoviePy] Writing video test_video_outputs/solidWhiteRight.mp4\n"
     ]
    },
    {
     "name": "stderr",
     "output_type": "stream",
     "text": [
      "100%|███████████████████████████████████████▊| 221/222 [00:08<00:00, 26.88it/s]\n"
     ]
    },
    {
     "name": "stdout",
     "output_type": "stream",
     "text": [
      "[MoviePy] Done.\n",
      "[MoviePy] >>>> Video ready: test_video_outputs/solidWhiteRight.mp4 \n",
      "\n",
      "Wall time: 9.44 s\n"
     ]
    }
   ],
   "source": [
    "white_output = 'test_video_outputs/solidWhiteRight.mp4'\n",
    "clip1 = VideoFileClip(\"test_videos/solidWhiteRight.mp4\")\n",
    "white_clip = clip1.fl_image(process_image) #NOTE: this function expects color images!!\n",
    "%time white_clip.write_videofile(white_output, audio=False)"
   ]
  },
  {
   "cell_type": "code",
   "execution_count": 61,
   "metadata": {
    "collapsed": false
   },
   "outputs": [
    {
     "data": {
      "text/html": [
       "\n",
       "<video width=\"960\" height=\"540\" controls>\n",
       "  <source src=\"test_video_outputs/solidWhiteRight.mp4\">\n",
       "</video>\n"
      ],
      "text/plain": [
       "<IPython.core.display.HTML object>"
      ]
     },
     "execution_count": 61,
     "metadata": {},
     "output_type": "execute_result"
    }
   ],
   "source": [
    "HTML(\"\"\"\n",
    "<video width=\"960\" height=\"540\" controls>\n",
    "  <source src=\"{0}\">\n",
    "</video>\n",
    "\"\"\".format(white_output))"
   ]
  },
  {
   "cell_type": "code",
   "execution_count": 64,
   "metadata": {
    "collapsed": false
   },
   "outputs": [
    {
     "name": "stdout",
     "output_type": "stream",
     "text": [
      "[MoviePy] >>>> Building video test_video_outputs/solidYellowLeft.mp4\n",
      "[MoviePy] Writing video test_video_outputs/solidYellowLeft.mp4\n"
     ]
    },
    {
     "name": "stderr",
     "output_type": "stream",
     "text": [
      "100%|███████████████████████████████████████▉| 681/682 [00:26<00:00, 25.53it/s]\n"
     ]
    },
    {
     "name": "stdout",
     "output_type": "stream",
     "text": [
      "[MoviePy] Done.\n",
      "[MoviePy] >>>> Video ready: test_video_outputs/solidYellowLeft.mp4 \n",
      "\n",
      "Wall time: 27.9 s\n"
     ]
    }
   ],
   "source": [
    "white_output = 'test_video_outputs/solidYellowLeft.mp4'\n",
    "clip1 = VideoFileClip(\"test_videos/solidYellowLeft.mp4\")\n",
    "white_clip = clip1.fl_image(process_image_extrapolation) #NOTE: this function expects color images!!\n",
    "%time white_clip.write_videofile(white_output, audio=False)"
   ]
  },
  {
   "cell_type": "code",
   "execution_count": 65,
   "metadata": {
    "collapsed": false
   },
   "outputs": [
    {
     "data": {
      "text/html": [
       "\n",
       "<video width=\"960\" height=\"540\" controls>\n",
       "  <source src=\"test_video_outputs/solidYellowLeft.mp4\">\n",
       "</video>\n"
      ],
      "text/plain": [
       "<IPython.core.display.HTML object>"
      ]
     },
     "execution_count": 65,
     "metadata": {},
     "output_type": "execute_result"
    }
   ],
   "source": [
    "HTML(\"\"\"\n",
    "<video width=\"960\" height=\"540\" controls>\n",
    "  <source src=\"{0}\">\n",
    "</video>\n",
    "\"\"\".format(white_output))"
   ]
  },
  {
   "cell_type": "code",
   "execution_count": 70,
   "metadata": {
    "collapsed": true
   },
   "outputs": [],
   "source": [
    "def colorSelect(img):\n",
    "    # segment by color threshold \n",
    "    color_thresholds = np.array([210,110,70])\n",
    "    white_colors = np.array([255,255,255])\n",
    "    return cv2.inRange(img, color_thresholds, white_colors)"
   ]
  },
  {
   "cell_type": "code",
   "execution_count": 85,
   "metadata": {
    "collapsed": true
   },
   "outputs": [],
   "source": [
    "def pipeline_lane_challenge(img):\n",
    "    #Define the Hough transform parameters\n",
    "    # Make a blank the same size as our image to draw on\n",
    "    rho = 1 # distance resolution in pixels of the Hough grid\n",
    "    theta = np.pi/180 # angular resolution in radians of the Hough grid\n",
    "    threshold = 10   # minimum number of votes (intersections in Hough grid cell)\n",
    "    min_line_length = 100 #minimum number of pixels making up a line\n",
    "    max_line_gap = 100    # maximum gap in pixels between connectable line segments\n",
    "    # Define our parameters for Canny and apply\n",
    "    low_threshold = 50\n",
    "    high_threshold = 150\n",
    "    img = colorSelect(img)    \n",
    "    if len(img.shape)>2:\n",
    "        img_gray = cv2.cvtColor(img, cv2.COLOR_RGB2GRAY)\n",
    "    else:\n",
    "        img_gray = img\n",
    "    kernel_size = 5\n",
    "    blur_gray = cv2.GaussianBlur(img_gray,(kernel_size, kernel_size),0)\n",
    "    edges = cv2.Canny(blur_gray, low_threshold, high_threshold)\n",
    "    edge_roi = ROI(edges)\n",
    "    lines_h = hough_lines_extrapolation(edge_roi, rho, theta, threshold, min_line_length, max_line_gap)\n",
    "    return lines_h"
   ]
  },
  {
   "cell_type": "code",
   "execution_count": 86,
   "metadata": {
    "collapsed": true
   },
   "outputs": [],
   "source": [
    "def process_image_challenge(image):\n",
    "    result = pipeline_lane_challenge(image)\n",
    "    lanes = cv2.addWeighted(image,0.8,result,1,0)\n",
    "    return lanes"
   ]
  },
  {
   "cell_type": "code",
   "execution_count": 87,
   "metadata": {
    "collapsed": false
   },
   "outputs": [
    {
     "name": "stdout",
     "output_type": "stream",
     "text": [
      "[MoviePy] >>>> Building video test_video_outputs/challenge.mp4\n",
      "[MoviePy] Writing video test_video_outputs/challenge.mp4\n"
     ]
    },
    {
     "name": "stderr",
     "output_type": "stream",
     "text": [
      "100%|████████████████████████████████████████| 251/251 [00:24<00:00, 12.04it/s]\n"
     ]
    },
    {
     "name": "stdout",
     "output_type": "stream",
     "text": [
      "[MoviePy] Done.\n",
      "[MoviePy] >>>> Video ready: test_video_outputs/challenge.mp4 \n",
      "\n",
      "Wall time: 27.8 s\n"
     ]
    }
   ],
   "source": [
    "challenge_output = 'test_video_outputs/challenge.mp4'\n",
    "clip2 = VideoFileClip('test_videos/challenge.mp4')\n",
    "challenge_clip = clip2.fl_image(process_image_challenge)\n",
    "%time challenge_clip.write_videofile(challenge_output, audio=False)"
   ]
  },
  {
   "cell_type": "code",
   "execution_count": 88,
   "metadata": {
    "collapsed": false
   },
   "outputs": [
    {
     "data": {
      "text/html": [
       "\n",
       "<video width=\"960\" height=\"540\" controls>\n",
       "  <source src=\"test_video_outputs/challenge.mp4\">\n",
       "</video>\n"
      ],
      "text/plain": [
       "<IPython.core.display.HTML object>"
      ]
     },
     "execution_count": 88,
     "metadata": {},
     "output_type": "execute_result"
    }
   ],
   "source": [
    "HTML(\"\"\"\n",
    "<video width=\"960\" height=\"540\" controls>\n",
    "  <source src=\"{0}\">\n",
    "</video>\n",
    "\"\"\".format(challenge_output))"
   ]
  },
  {
   "cell_type": "code",
   "execution_count": null,
   "metadata": {
    "collapsed": true
   },
   "outputs": [],
   "source": []
  }
 ],
 "metadata": {
  "kernelspec": {
   "display_name": "Python 2",
   "language": "python",
   "name": "python2"
  },
  "language_info": {
   "codemirror_mode": {
    "name": "ipython",
    "version": 2
   },
   "file_extension": ".py",
   "mimetype": "text/x-python",
   "name": "python",
   "nbconvert_exporter": "python",
   "pygments_lexer": "ipython2",
   "version": "2.7.13"
  }
 },
 "nbformat": 4,
 "nbformat_minor": 0
}
